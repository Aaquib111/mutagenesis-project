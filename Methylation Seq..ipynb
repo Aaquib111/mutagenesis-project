{
 "cells": [
  {
   "cell_type": "code",
   "execution_count": 1,
   "metadata": {},
   "outputs": [],
   "source": [
    "import os\n",
    "import io\n",
    "import pandas as pd\n",
    "import seaborn as sns\n",
    "import matplotlib.pyplot as plt\n",
    "import numpy as np"
   ]
  },
  {
   "cell_type": "code",
   "execution_count": 2,
   "metadata": {},
   "outputs": [],
   "source": [
    "pd.set_option('display.max_columns', 5000) #Show all columns"
   ]
  },
  {
   "cell_type": "code",
   "execution_count": 3,
   "metadata": {},
   "outputs": [],
   "source": [
    "#ICGC_SAMPLE_ID = 'SA320818' #Sample we are reading\n",
    "#df = pd.read_csv('E:/Sequencing/meth_seq.MALY-DE.tsv/samples/' + ICGC_SAMPLE_ID + '.tsv', \\\n",
    "#                 sep = '\\t', low_memory=False, dtype={'chromosome': 'object'})"
   ]
  },
  {
   "cell_type": "code",
   "execution_count": 3,
   "metadata": {
    "scrolled": true
   },
   "outputs": [
    {
     "data": {
      "text/html": [
       "<div>\n",
       "<style scoped>\n",
       "    .dataframe tbody tr th:only-of-type {\n",
       "        vertical-align: middle;\n",
       "    }\n",
       "\n",
       "    .dataframe tbody tr th {\n",
       "        vertical-align: top;\n",
       "    }\n",
       "\n",
       "    .dataframe thead th {\n",
       "        text-align: right;\n",
       "    }\n",
       "</style>\n",
       "<table border=\"1\" class=\"dataframe\">\n",
       "  <thead>\n",
       "    <tr style=\"text-align: right;\">\n",
       "      <th></th>\n",
       "      <th>icgc_sample_id</th>\n",
       "      <th>chromosome</th>\n",
       "      <th>chromosome_start</th>\n",
       "      <th>chromosome_end</th>\n",
       "      <th>chromosome_strand</th>\n",
       "      <th>methylation_ratio</th>\n",
       "      <th>methylated_read_count</th>\n",
       "      <th>unmethylated_read_count</th>\n",
       "    </tr>\n",
       "  </thead>\n",
       "  <tbody>\n",
       "    <tr>\n",
       "      <th>0</th>\n",
       "      <td>SA557646</td>\n",
       "      <td>16</td>\n",
       "      <td>1893033</td>\n",
       "      <td>1893033</td>\n",
       "      <td>1</td>\n",
       "      <td>0.94</td>\n",
       "      <td>30.0</td>\n",
       "      <td>2.0</td>\n",
       "    </tr>\n",
       "    <tr>\n",
       "      <th>1</th>\n",
       "      <td>SA557646</td>\n",
       "      <td>16</td>\n",
       "      <td>1893034</td>\n",
       "      <td>1893034</td>\n",
       "      <td>1</td>\n",
       "      <td>1.00</td>\n",
       "      <td>31.0</td>\n",
       "      <td>0.0</td>\n",
       "    </tr>\n",
       "    <tr>\n",
       "      <th>2</th>\n",
       "      <td>SA557646</td>\n",
       "      <td>16</td>\n",
       "      <td>1893061</td>\n",
       "      <td>1893061</td>\n",
       "      <td>1</td>\n",
       "      <td>0.97</td>\n",
       "      <td>28.0</td>\n",
       "      <td>1.0</td>\n",
       "    </tr>\n",
       "    <tr>\n",
       "      <th>3</th>\n",
       "      <td>SA557646</td>\n",
       "      <td>16</td>\n",
       "      <td>1893062</td>\n",
       "      <td>1893062</td>\n",
       "      <td>1</td>\n",
       "      <td>0.90</td>\n",
       "      <td>37.0</td>\n",
       "      <td>4.0</td>\n",
       "    </tr>\n",
       "    <tr>\n",
       "      <th>4</th>\n",
       "      <td>SA557646</td>\n",
       "      <td>16</td>\n",
       "      <td>1893077</td>\n",
       "      <td>1893077</td>\n",
       "      <td>1</td>\n",
       "      <td>0.96</td>\n",
       "      <td>26.0</td>\n",
       "      <td>1.0</td>\n",
       "    </tr>\n",
       "  </tbody>\n",
       "</table>\n",
       "</div>"
      ],
      "text/plain": [
       "  icgc_sample_id chromosome  chromosome_start  chromosome_end  \\\n",
       "0       SA557646         16           1893033         1893033   \n",
       "1       SA557646         16           1893034         1893034   \n",
       "2       SA557646         16           1893061         1893061   \n",
       "3       SA557646         16           1893062         1893062   \n",
       "4       SA557646         16           1893077         1893077   \n",
       "\n",
       "   chromosome_strand  methylation_ratio  methylated_read_count  \\\n",
       "0                  1               0.94                   30.0   \n",
       "1                  1               1.00                   31.0   \n",
       "2                  1               0.97                   28.0   \n",
       "3                  1               0.90                   37.0   \n",
       "4                  1               0.96                   26.0   \n",
       "\n",
       "   unmethylated_read_count  \n",
       "0                      2.0  \n",
       "1                      0.0  \n",
       "2                      1.0  \n",
       "3                      4.0  \n",
       "4                      1.0  "
      ]
     },
     "execution_count": 3,
     "metadata": {},
     "output_type": "execute_result"
    }
   ],
   "source": [
    "ICGC_SAMPLE_ID = 'SA557646' #Sample we are reading\n",
    "df = pd.read_csv('E:/Sequencing/meth_seq.MALY-DE.tsv/samples/' + ICGC_SAMPLE_ID + '.tsv', \\\n",
    "                 sep = '\\t', low_memory=False)\n",
    "df.head()"
   ]
  },
  {
   "cell_type": "code",
   "execution_count": 4,
   "metadata": {
    "scrolled": true
   },
   "outputs": [
    {
     "data": {
      "image/png": "[encoded data removed]",
      "text/plain": [
       "<Figure size 432x288 with 1 Axes>"
      ]
     },
     "metadata": {
      "needs_background": "light"
     },
     "output_type": "display_data"
    }
   ],
   "source": [
    "#Testing the charts\n",
    "chart = sns.distplot(df['methylation_ratio'],\\\n",
    "                     kde = False, norm_hist = False, bins = 4,\\\n",
    "                     hist_kws=dict(edgecolor=\"black\", linewidth=2),\\\n",
    "                     color = 'white').set_title(\"Freq. of Methylation Ratios for Sample {}\".format(ICGC_SAMPLE_ID))\n",
    "sns.despine()\n",
    "plt.ylabel('Frequency')\n",
    "plt.xlabel('Methylation Ratio')\n",
    "plt.show(chart)"
   ]
  },
  {
   "cell_type": "code",
   "execution_count": null,
   "metadata": {},
   "outputs": [],
   "source": [
    "plt.savefig('test.pdf', dpi=300)"
   ]
  },
  {
   "cell_type": "markdown",
   "metadata": {},
   "source": [
    "# Data Analysis\n"
   ]
  },
  {
   "cell_type": "code",
   "execution_count": 2,
   "metadata": {
    "scrolled": true
   },
   "outputs": [],
   "source": [
    "sns.set()\n"
   ]
  },
  {
   "cell_type": "markdown",
   "metadata": {},
   "source": [
    "### Creating individual histograms"
   ]
  },
  {
   "cell_type": "code",
   "execution_count": null,
   "metadata": {},
   "outputs": [],
   "source": [
    "cols = ['methylation_ratio']\n",
    "directory = 'E:/Sequencing/meth_seq.MALY-DE.tsv/samples'\n",
    "for file in os.listdir(directory):\n",
    "    if file.endswith(\".tsv\"):\n",
    "        print(\"PROCESSING \" + file) #Print file name\n",
    "        df = pd.read_csv('E:/Sequencing/meth_seq.MALY-DE.tsv/samples/' + file, \\\n",
    "                 sep = '\\t', low_memory=False, usecols = cols) #Read into pandas\n",
    "        plt.clf() #Clear Figure\n",
    "        chart = sns.distplot(df['methylation_ratio'],\\\n",
    "                     kde = False, norm_hist = False, bins = 5,\\\n",
    "                     hist_kws=dict(edgecolor=\"black\", linewidth=2),\\\n",
    "                     color = 'white').set_title(\"Freq. of Methylation Ratios for Sample {}\".format(ICGC_SAMPLE_ID))\n",
    "        sns.despine()\n",
    "        plt.ylabel('Frequency')\n",
    "        plt.xlabel('Methylation Ratio') #Create histogram\n",
    "        plt.savefig('{}.pdf'.format(os.path.splitext(file)[0]), dpi=300) #Save histogram to pdf\n",
    "\n",
    "print(\"DONE\")"
   ]
  },
  {
   "cell_type": "markdown",
   "metadata": {},
   "source": [
    "### Creating histogram of all MALY samples"
   ]
  },
  {
   "cell_type": "code",
   "execution_count": 8,
   "metadata": {},
   "outputs": [],
   "source": [
    "np_ = df['methylation_ratio'].to_numpy(dtype = np.float64)"
   ]
  },
  {
   "cell_type": "code",
   "execution_count": 10,
   "metadata": {},
   "outputs": [
    {
     "data": {
      "image/png": "[encoded data removed]",
      "text/plain": [
       "<Figure size 432x288 with 1 Axes>"
      ]
     },
     "metadata": {},
     "output_type": "display_data"
    }
   ],
   "source": [
    "#Testing the charts\n",
    "chart = sns.distplot(np_,\\\n",
    "                     kde = False, norm_hist = False, bins = 4,\\\n",
    "                     hist_kws=dict(edgecolor=\"black\", linewidth=2),\\\n",
    "                     color = 'white').set_title(\"Freq. of Methylation Ratios for Sample {}\".format(ICGC_SAMPLE_ID))\n",
    "sns.despine()\n",
    "plt.ylabel('Frequency')\n",
    "plt.xlabel('Methylation Ratio')\n",
    "plt.show(chart)"
   ]
  },
  {
   "cell_type": "code",
   "execution_count": 14,
   "metadata": {},
   "outputs": [
    {
     "data": {
      "image/png": "[encoded data removed]",
      "text/plain": [
       "<Figure size 432x288 with 1 Axes>"
      ]
     },
     "metadata": {},
     "output_type": "display_data"
    }
   ],
   "source": [
    "chart = sns.distplot(np_,\\\n",
    "                     kde = False, norm_hist = False, bins = 5,\\\n",
    "                     hist_kws=dict(edgecolor=\"black\", linewidth=2),\\\n",
    "                     color = 'white').set_title(\"Freq. of Methylation Ratios for all MALY samples\")\n",
    "sns.despine()\n",
    "plt.ylabel('Frequency')\n",
    "plt.xlabel('Methylation Ratio') #Create histogram\n",
    "plt.savefig('MALY.pdf', dpi=300) #Save histogram to pdf"
   ]
  },
  {
   "cell_type": "code",
   "execution_count": 13,
   "metadata": {},
   "outputs": [
    {
     "name": "stdout",
     "output_type": "stream",
     "text": [
      "[0.5  0.94 0.71 0.44 0.55]\n"
     ]
    }
   ],
   "source": [
    "print(np_[0:5])"
   ]
  },
  {
   "cell_type": "code",
   "execution_count": null,
   "metadata": {},
   "outputs": [],
   "source": []
  }
 ],
 "metadata": {
  "kernelspec": {
   "display_name": "Python 3",
   "language": "python",
   "name": "python3"
  },
  "language_info": {
   "codemirror_mode": {
    "name": "ipython",
    "version": 3
   },
   "file_extension": ".py",
   "mimetype": "text/x-python",
   "name": "python",
   "nbconvert_exporter": "python",
   "pygments_lexer": "ipython3",
   "version": "3.7.6"
  }
 },
 "nbformat": 4,
 "nbformat_minor": 4
}
