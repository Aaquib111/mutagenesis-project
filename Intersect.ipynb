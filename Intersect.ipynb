{
 "cells": [
  {
   "cell_type": "markdown",
   "metadata": {},
   "source": [
    "# Goal: Plot distribution of allele frequency of all mutated samples with methylation data then plot distribution of methylation ratios of samples with mutation data"
   ]
  },
  {
   "cell_type": "code",
   "execution_count": 1,
   "metadata": {},
   "outputs": [],
   "source": [
    "import os\n",
    "import io\n",
    "import pandas as pd\n",
    "import numpy as np\n",
    "import seaborn as sns\n",
    "import matplotlib.pyplot as plt"
   ]
  },
  {
   "cell_type": "markdown",
   "metadata": {},
   "source": [
    "## Mutation data"
   ]
  },
  {
   "cell_type": "code",
   "execution_count": null,
   "metadata": {},
   "outputs": [],
   "source": [
    "ICGC_SAMPLE_ID = 'SA320824' #Sample we are reading\n",
    "DIRECTORY = 'E:/Sequencing/intersect/mutation/'\n",
    "mu_df = pd.read_csv(DIRECTORY + ICGC_SAMPLE_ID + '.tsv', sep = '\\t', low_memory=False)"
   ]
  },
  {
   "cell_type": "code",
   "execution_count": null,
   "metadata": {},
   "outputs": [],
   "source": [
    "mu_df.head() #NEW-TEST SHAPE: (2477, 15)\n",
    "            #NEW SHAPE (13098, 15)"
   ]
  },
  {
   "cell_type": "code",
   "execution_count": null,
   "metadata": {},
   "outputs": [],
   "source": [
    "np_test = mu_df['frequency_mutated'].to_numpy(dtype = 'float64')"
   ]
  },
  {
   "cell_type": "code",
   "execution_count": null,
   "metadata": {},
   "outputs": [],
   "source": [
    "np_test = np.concatenate([np_test, mu_df['frequency_mutated']])\n",
    "np_test.shape"
   ]
  },
  {
   "cell_type": "markdown",
   "metadata": {},
   "source": [
    "### Adding frequency_mutated column"
   ]
  },
  {
   "cell_type": "code",
   "execution_count": null,
   "metadata": {},
   "outputs": [],
   "source": [
    "for file in os.listdir(DIRECTORY):\n",
    "    print(\"WORKING ON {}\".format(file))\n",
    "    frequency_mutated = []\n",
    "    df = pd.read_csv(DIRECTORY + file, sep = '\\t', low_memory=False)\n",
    "    for i in range(0, len(df)):\n",
    "        frequency_mutated.append(df['mutant_allele_read_count'].iloc[i] / df['total_read_count'].iloc[i])\n",
    "    df['frequency_mutated'] = frequency_mutated\n",
    "    df.to_csv(DIRECTORY + file, sep='\\t')\n",
    "    print(\"DONE WITH {}\".format(file))\n",
    "print(\"DONE\")"
   ]
  },
  {
   "cell_type": "markdown",
   "metadata": {},
   "source": [
    "### Plotting distribution"
   ]
  },
  {
   "cell_type": "code",
   "execution_count": null,
   "metadata": {},
   "outputs": [],
   "source": [
    "chart = sns.distplot(df['frequency_mutated'],\\\n",
    "                     kde = False, norm_hist = False, bins = 5,\\\n",
    "                     hist_kws=dict(edgecolor=\"black\", linewidth=2),\\\n",
    "                     color = 'white').set_title(\"Freq. of Variant Allele Fraction for Sample {}\".format(ICGC_SAMPLE_ID))\n",
    "sns.despine()\n",
    "plt.ylabel('Frequency')\n",
    "plt.xlabel('VAF (Variant Allele Fraction)')\n",
    "plt.show(chart)"
   ]
  },
  {
   "cell_type": "code",
   "execution_count": null,
   "metadata": {},
   "outputs": [],
   "source": [
    "sns.set()"
   ]
  },
  {
   "cell_type": "code",
   "execution_count": null,
   "metadata": {},
   "outputs": [],
   "source": [
    "cols = ['frequency_mutated']\n",
    "for file in os.listdir(DIRECTORY):\n",
    "    print(\"WORKING ON {}\".format(file))\n",
    "    df = pd.read_csv(DIRECTORY + file, sep = '\\t', low_memory=False, usecols = cols)\n",
    "    plt.clf()\n",
    "    chart = sns.distplot(df['frequency_mutated'],\\\n",
    "                     kde = False, norm_hist = False, bins = 5,\\\n",
    "                     hist_kws=dict(edgecolor=\"black\", linewidth=2),\\\n",
    "                     color = 'white').set_title(\"Freq. of Variant Allele Fraction for Sample {}\".format(os.path.splitext(file)[0])) #Create histogram\n",
    "    sns.despine()\n",
    "    plt.ylabel('Frequency')\n",
    "    plt.xlabel('VAF (Variant Allele Fraction)') \n",
    "    plt.savefig('{}.pdf'.format(os.path.splitext(file)[0]), dpi=300) #Save histogram to pdf\n",
    "    print(\"DONE WITH {}\".format(file))\n",
    "print(\"DONE\")"
   ]
  },
  {
   "cell_type": "markdown",
   "metadata": {},
   "source": [
    "### Chart for all MALY mutation data combined"
   ]
  },
  {
   "cell_type": "code",
   "execution_count": null,
   "metadata": {},
   "outputs": [],
   "source": [
    "count = 0\n",
    "cols = ['frequency_mutated']\n",
    "for file in os.listdir(DIRECTORY):\n",
    "    print(\"WORKING ON {}\".format(file))\n",
    "    df = pd.read_csv(DIRECTORY + file, sep = '\\t', low_memory=False, usecols = cols)\n",
    "    if count > 0:\n",
    "        np_ = np.concatenate([np_, df['frequency_mutated'].to_numpy(dtype = np.float64)])\n",
    "    else:\n",
    "        np_ = df['frequency_mutated'].to_numpy(dtype = np.float64)\n",
    "    count += 1\n",
    "    "
   ]
  },
  {
   "cell_type": "code",
   "execution_count": null,
   "metadata": {},
   "outputs": [],
   "source": [
    "plt.clf()\n",
    "chart = sns.distplot(np_,\\\n",
    "                     kde = False, norm_hist = False, bins = 5,\\\n",
    "                     hist_kws=dict(edgecolor=\"black\", linewidth=2),\\\n",
    "                     color = 'white').set_title(\"Freq. of Variant Allele Fraction for all samples\") #Create histogram\n",
    "sns.despine()\n",
    "plt.ylabel('Frequency')\n",
    "plt.xlabel('VAF (Variant Allele Fraction)') \n",
    "plt.savefig('mutation_merged_untouched_rows.pdf', dpi=300) #Save histogram to pdf"
   ]
  },
  {
   "cell_type": "code",
   "execution_count": null,
   "metadata": {},
   "outputs": [],
   "source": [
    "np_.shape"
   ]
  },
  {
   "cell_type": "markdown",
   "metadata": {},
   "source": [
    "## Methylation Data"
   ]
  },
  {
   "cell_type": "code",
   "execution_count": null,
   "metadata": {},
   "outputs": [],
   "source": [
    "sns.set()"
   ]
  },
  {
   "cell_type": "code",
   "execution_count": null,
   "metadata": {},
   "outputs": [],
   "source": [
    "DIRECTORY = 'E:/Sequencing/intersect/methylation/'\n",
    "cols = ['methylation_ratio']\n",
    "for file in os.listdir(DIRECTORY):\n",
    "    print(\"WORKING ON {}\".format(file))\n",
    "    df = pd.read_csv(DIRECTORY + file, sep = '\\t', low_memory=False, usecols = cols)\n",
    "    plt.clf()\n",
    "    chart = sns.distplot(df['methylation_ratio'],\\\n",
    "                     kde = False, norm_hist = False, bins = 5,\\\n",
    "                     hist_kws=dict(edgecolor=\"black\", linewidth=2),\\\n",
    "                     color = 'white').set_title(\"Freq. of Methylation Ratio for Sample {}\".format(os.path.splitext(file)[0])) #Create histogram\n",
    "    sns.despine()\n",
    "    plt.ylabel('Frequency')\n",
    "    plt.xlabel('Methylation Ratio') \n",
    "    plt.savefig('{}.pdf'.format(os.path.splitext(file)[0]), dpi=300) #Save histogram to pdf\n",
    "    print(\"DONE WITH {}\".format(file))\n",
    "print(\"DONE\")"
   ]
  },
  {
   "cell_type": "code",
   "execution_count": 2,
   "metadata": {},
   "outputs": [
    {
     "name": "stdout",
     "output_type": "stream",
     "text": [
      "WORKING ON SA320818.tsv\n",
      "WORKING ON SA320824.tsv\n",
      "WORKING ON SA320830.tsv\n",
      "WORKING ON SA320836.tsv\n",
      "WORKING ON SA320842.tsv\n",
      "WORKING ON SA320854.tsv\n",
      "WORKING ON SA320860.tsv\n",
      "WORKING ON SA320878.tsv\n",
      "WORKING ON SA320890.tsv\n",
      "WORKING ON SA320896.tsv\n",
      "WORKING ON SA320920.tsv\n",
      "WORKING ON SA320926.tsv\n",
      "WORKING ON SA320932.tsv\n",
      "WORKING ON SA320938.tsv\n",
      "WORKING ON SA320944.tsv\n",
      "WORKING ON SA320950.tsv\n",
      "WORKING ON SA320962.tsv\n",
      "WORKING ON SA320980.tsv\n",
      "WORKING ON SA320992.tsv\n",
      "WORKING ON SA320998.tsv\n",
      "WORKING ON SA321004.tsv\n",
      "WORKING ON SA321012.tsv\n"
     ]
    }
   ],
   "source": [
    "count = 0\n",
    "DIRECTORY = 'E:/Sequencing/intersect/methylation/'\n",
    "cols = ['methylation_ratio']\n",
    "for file in os.listdir(DIRECTORY):\n",
    "    print(\"WORKING ON {}\".format(file))\n",
    "    df = pd.read_csv(DIRECTORY + file, sep = '\\t', low_memory=False, usecols = cols)\n",
    "    if count > 0:\n",
    "        np_ = np.concatenate([np_, df['methylation_ratio'].to_numpy(dtype = np.float64)])\n",
    "    else:\n",
    "        np_ = df['methylation_ratio'].to_numpy(dtype = np.float64)\n",
    "    count += 1\n",
    "    "
   ]
  },
  {
   "cell_type": "code",
   "execution_count": null,
   "metadata": {},
   "outputs": [],
   "source": [
    "df = pd.read_csv('E:/Sequencing/intersect/methylation/SA320818.tsv', sep = '\\t', low_memory=False, usecols = cols)"
   ]
  },
  {
   "cell_type": "code",
   "execution_count": null,
   "metadata": {},
   "outputs": [],
   "source": [
    "df.head()"
   ]
  },
  {
   "cell_type": "code",
   "execution_count": 3,
   "metadata": {},
   "outputs": [
    {
     "data": {
      "text/plain": [
       "(550904778,)"
      ]
     },
     "execution_count": 3,
     "metadata": {},
     "output_type": "execute_result"
    }
   ],
   "source": [
    "np_.shape"
   ]
  },
  {
   "cell_type": "code",
   "execution_count": 4,
   "metadata": {},
   "outputs": [
    {
     "data": {
      "image/png": "[encoded data removed]",
      "text/plain": [
       "<Figure size 432x288 with 1 Axes>"
      ]
     },
     "metadata": {
      "needs_background": "light"
     },
     "output_type": "display_data"
    }
   ],
   "source": [
    "#Testing the charts\n",
    "chart = sns.distplot(np_,\\\n",
    "                     kde = False, norm_hist = False, bins = 5,\\\n",
    "                     hist_kws=dict(edgecolor=\"black\", linewidth=2),\\\n",
    "                     color = 'white').set_title(\"Freq. of Methylation Ratios for all MALY samples\")\n",
    "sns.despine()\n",
    "plt.ylabel('Frequency')\n",
    "plt.xlabel('Methylation Ratio')\n",
    "plt.savefig('methylation_merged_untouched_rows.pdf', dpi=300) #Save histogram to pdf\n",
    "plt.show(chart)"
   ]
  },
  {
   "cell_type": "code",
   "execution_count": null,
   "metadata": {},
   "outputs": [],
   "source": []
  }
 ],
 "metadata": {
  "kernelspec": {
   "display_name": "Python 3",
   "language": "python",
   "name": "python3"
  },
  "language_info": {
   "codemirror_mode": {
    "name": "ipython",
    "version": 3
   },
   "file_extension": ".py",
   "mimetype": "text/x-python",
   "name": "python",
   "nbconvert_exporter": "python",
   "pygments_lexer": "ipython3",
   "version": "3.7.6"
  }
 },
 "nbformat": 4,
 "nbformat_minor": 4
}
